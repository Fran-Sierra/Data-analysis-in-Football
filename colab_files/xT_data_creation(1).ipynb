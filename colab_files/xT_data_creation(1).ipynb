{
  "nbformat": 4,
  "nbformat_minor": 0,
  "metadata": {
    "colab": {
      "provenance": [],
      "authorship_tag": "ABX9TyMl0vMZWMqwx3tj+jHUq6xh",
      "include_colab_link": true
    },
    "kernelspec": {
      "name": "python3",
      "display_name": "Python 3"
    },
    "language_info": {
      "name": "python"
    },
    "widgets": {
      "application/vnd.jupyter.widget-state+json": {
        "6b3821e8e22d48b19b72d0dc098c1c63": {
          "model_module": "@jupyter-widgets/controls",
          "model_name": "HBoxModel",
          "model_module_version": "1.5.0",
          "state": {
            "_dom_classes": [],
            "_model_module": "@jupyter-widgets/controls",
            "_model_module_version": "1.5.0",
            "_model_name": "HBoxModel",
            "_view_count": null,
            "_view_module": "@jupyter-widgets/controls",
            "_view_module_version": "1.5.0",
            "_view_name": "HBoxView",
            "box_style": "",
            "children": [
              "IPY_MODEL_c56fc6129f4e4150b8323eb3b3a9d384",
              "IPY_MODEL_7424befd4164450f84bca338f15680ec",
              "IPY_MODEL_b812dbac1ec244248fa2a157345fe3dd"
            ],
            "layout": "IPY_MODEL_343063c711c145a9b752b38762d60cf9"
          }
        },
        "c56fc6129f4e4150b8323eb3b3a9d384": {
          "model_module": "@jupyter-widgets/controls",
          "model_name": "HTMLModel",
          "model_module_version": "1.5.0",
          "state": {
            "_dom_classes": [],
            "_model_module": "@jupyter-widgets/controls",
            "_model_module_version": "1.5.0",
            "_model_name": "HTMLModel",
            "_view_count": null,
            "_view_module": "@jupyter-widgets/controls",
            "_view_module_version": "1.5.0",
            "_view_name": "HTMLView",
            "description": "",
            "description_tooltip": null,
            "layout": "IPY_MODEL_14337b135af64df2abac18f05d4d57f5",
            "placeholder": "​",
            "style": "IPY_MODEL_fca31ae1de494ee6a8291cad6446429d",
            "value": "100%"
          }
        },
        "7424befd4164450f84bca338f15680ec": {
          "model_module": "@jupyter-widgets/controls",
          "model_name": "FloatProgressModel",
          "model_module_version": "1.5.0",
          "state": {
            "_dom_classes": [],
            "_model_module": "@jupyter-widgets/controls",
            "_model_module_version": "1.5.0",
            "_model_name": "FloatProgressModel",
            "_view_count": null,
            "_view_module": "@jupyter-widgets/controls",
            "_view_module_version": "1.5.0",
            "_view_name": "ProgressView",
            "bar_style": "success",
            "description": "",
            "description_tooltip": null,
            "layout": "IPY_MODEL_03b663fd9a5749e2a38b11ace2cb4b5b",
            "max": 4,
            "min": 0,
            "orientation": "horizontal",
            "style": "IPY_MODEL_27697796e5884f35bdb7918059d55572",
            "value": 4
          }
        },
        "b812dbac1ec244248fa2a157345fe3dd": {
          "model_module": "@jupyter-widgets/controls",
          "model_name": "HTMLModel",
          "model_module_version": "1.5.0",
          "state": {
            "_dom_classes": [],
            "_model_module": "@jupyter-widgets/controls",
            "_model_module_version": "1.5.0",
            "_model_name": "HTMLModel",
            "_view_count": null,
            "_view_module": "@jupyter-widgets/controls",
            "_view_module_version": "1.5.0",
            "_view_name": "HTMLView",
            "description": "",
            "description_tooltip": null,
            "layout": "IPY_MODEL_ee9615d1cf684dc0a60111ca7aa117db",
            "placeholder": "​",
            "style": "IPY_MODEL_8b11d5da1dc64abc9c2a32257ae282e7",
            "value": " 4/4 [00:22&lt;00:00,  3.26s/it]"
          }
        },
        "343063c711c145a9b752b38762d60cf9": {
          "model_module": "@jupyter-widgets/base",
          "model_name": "LayoutModel",
          "model_module_version": "1.2.0",
          "state": {
            "_model_module": "@jupyter-widgets/base",
            "_model_module_version": "1.2.0",
            "_model_name": "LayoutModel",
            "_view_count": null,
            "_view_module": "@jupyter-widgets/base",
            "_view_module_version": "1.2.0",
            "_view_name": "LayoutView",
            "align_content": null,
            "align_items": null,
            "align_self": null,
            "border": null,
            "bottom": null,
            "display": null,
            "flex": null,
            "flex_flow": null,
            "grid_area": null,
            "grid_auto_columns": null,
            "grid_auto_flow": null,
            "grid_auto_rows": null,
            "grid_column": null,
            "grid_gap": null,
            "grid_row": null,
            "grid_template_areas": null,
            "grid_template_columns": null,
            "grid_template_rows": null,
            "height": null,
            "justify_content": null,
            "justify_items": null,
            "left": null,
            "margin": null,
            "max_height": null,
            "max_width": null,
            "min_height": null,
            "min_width": null,
            "object_fit": null,
            "object_position": null,
            "order": null,
            "overflow": null,
            "overflow_x": null,
            "overflow_y": null,
            "padding": null,
            "right": null,
            "top": null,
            "visibility": null,
            "width": null
          }
        },
        "14337b135af64df2abac18f05d4d57f5": {
          "model_module": "@jupyter-widgets/base",
          "model_name": "LayoutModel",
          "model_module_version": "1.2.0",
          "state": {
            "_model_module": "@jupyter-widgets/base",
            "_model_module_version": "1.2.0",
            "_model_name": "LayoutModel",
            "_view_count": null,
            "_view_module": "@jupyter-widgets/base",
            "_view_module_version": "1.2.0",
            "_view_name": "LayoutView",
            "align_content": null,
            "align_items": null,
            "align_self": null,
            "border": null,
            "bottom": null,
            "display": null,
            "flex": null,
            "flex_flow": null,
            "grid_area": null,
            "grid_auto_columns": null,
            "grid_auto_flow": null,
            "grid_auto_rows": null,
            "grid_column": null,
            "grid_gap": null,
            "grid_row": null,
            "grid_template_areas": null,
            "grid_template_columns": null,
            "grid_template_rows": null,
            "height": null,
            "justify_content": null,
            "justify_items": null,
            "left": null,
            "margin": null,
            "max_height": null,
            "max_width": null,
            "min_height": null,
            "min_width": null,
            "object_fit": null,
            "object_position": null,
            "order": null,
            "overflow": null,
            "overflow_x": null,
            "overflow_y": null,
            "padding": null,
            "right": null,
            "top": null,
            "visibility": null,
            "width": null
          }
        },
        "fca31ae1de494ee6a8291cad6446429d": {
          "model_module": "@jupyter-widgets/controls",
          "model_name": "DescriptionStyleModel",
          "model_module_version": "1.5.0",
          "state": {
            "_model_module": "@jupyter-widgets/controls",
            "_model_module_version": "1.5.0",
            "_model_name": "DescriptionStyleModel",
            "_view_count": null,
            "_view_module": "@jupyter-widgets/base",
            "_view_module_version": "1.2.0",
            "_view_name": "StyleView",
            "description_width": ""
          }
        },
        "03b663fd9a5749e2a38b11ace2cb4b5b": {
          "model_module": "@jupyter-widgets/base",
          "model_name": "LayoutModel",
          "model_module_version": "1.2.0",
          "state": {
            "_model_module": "@jupyter-widgets/base",
            "_model_module_version": "1.2.0",
            "_model_name": "LayoutModel",
            "_view_count": null,
            "_view_module": "@jupyter-widgets/base",
            "_view_module_version": "1.2.0",
            "_view_name": "LayoutView",
            "align_content": null,
            "align_items": null,
            "align_self": null,
            "border": null,
            "bottom": null,
            "display": null,
            "flex": null,
            "flex_flow": null,
            "grid_area": null,
            "grid_auto_columns": null,
            "grid_auto_flow": null,
            "grid_auto_rows": null,
            "grid_column": null,
            "grid_gap": null,
            "grid_row": null,
            "grid_template_areas": null,
            "grid_template_columns": null,
            "grid_template_rows": null,
            "height": null,
            "justify_content": null,
            "justify_items": null,
            "left": null,
            "margin": null,
            "max_height": null,
            "max_width": null,
            "min_height": null,
            "min_width": null,
            "object_fit": null,
            "object_position": null,
            "order": null,
            "overflow": null,
            "overflow_x": null,
            "overflow_y": null,
            "padding": null,
            "right": null,
            "top": null,
            "visibility": null,
            "width": null
          }
        },
        "27697796e5884f35bdb7918059d55572": {
          "model_module": "@jupyter-widgets/controls",
          "model_name": "ProgressStyleModel",
          "model_module_version": "1.5.0",
          "state": {
            "_model_module": "@jupyter-widgets/controls",
            "_model_module_version": "1.5.0",
            "_model_name": "ProgressStyleModel",
            "_view_count": null,
            "_view_module": "@jupyter-widgets/base",
            "_view_module_version": "1.2.0",
            "_view_name": "StyleView",
            "bar_color": null,
            "description_width": ""
          }
        },
        "ee9615d1cf684dc0a60111ca7aa117db": {
          "model_module": "@jupyter-widgets/base",
          "model_name": "LayoutModel",
          "model_module_version": "1.2.0",
          "state": {
            "_model_module": "@jupyter-widgets/base",
            "_model_module_version": "1.2.0",
            "_model_name": "LayoutModel",
            "_view_count": null,
            "_view_module": "@jupyter-widgets/base",
            "_view_module_version": "1.2.0",
            "_view_name": "LayoutView",
            "align_content": null,
            "align_items": null,
            "align_self": null,
            "border": null,
            "bottom": null,
            "display": null,
            "flex": null,
            "flex_flow": null,
            "grid_area": null,
            "grid_auto_columns": null,
            "grid_auto_flow": null,
            "grid_auto_rows": null,
            "grid_column": null,
            "grid_gap": null,
            "grid_row": null,
            "grid_template_areas": null,
            "grid_template_columns": null,
            "grid_template_rows": null,
            "height": null,
            "justify_content": null,
            "justify_items": null,
            "left": null,
            "margin": null,
            "max_height": null,
            "max_width": null,
            "min_height": null,
            "min_width": null,
            "object_fit": null,
            "object_position": null,
            "order": null,
            "overflow": null,
            "overflow_x": null,
            "overflow_y": null,
            "padding": null,
            "right": null,
            "top": null,
            "visibility": null,
            "width": null
          }
        },
        "8b11d5da1dc64abc9c2a32257ae282e7": {
          "model_module": "@jupyter-widgets/controls",
          "model_name": "DescriptionStyleModel",
          "model_module_version": "1.5.0",
          "state": {
            "_model_module": "@jupyter-widgets/controls",
            "_model_module_version": "1.5.0",
            "_model_name": "DescriptionStyleModel",
            "_view_count": null,
            "_view_module": "@jupyter-widgets/base",
            "_view_module_version": "1.2.0",
            "_view_name": "StyleView",
            "description_width": ""
          }
        }
      }
    }
  },
  "cells": [
    {
      "cell_type": "markdown",
      "metadata": {
        "id": "view-in-github",
        "colab_type": "text"
      },
      "source": [
        "<a href=\"https://colab.research.google.com/github/Fran-Sierra/Data-analysis-in-Football/blob/main/colab_files/xT_data_creation(1).ipynb\" target=\"_parent\"><img src=\"https://colab.research.google.com/assets/colab-badge.svg\" alt=\"Open In Colab\"/></a>"
      ]
    },
    {
      "cell_type": "code",
      "execution_count": 1,
      "metadata": {
        "colab": {
          "base_uri": "https://localhost:8080/"
        },
        "id": "Q27EMupDDUiL",
        "outputId": "42257d93-80ae-4902-8e81-fd439dd6f600"
      },
      "outputs": [
        {
          "output_type": "stream",
          "name": "stdout",
          "text": [
            "Collecting tables==3.6.1\n",
            "  Using cached tables-3.6.1.tar.gz (4.6 MB)\n",
            "  Preparing metadata (setup.py) ... \u001b[?25l\u001b[?25hdone\n",
            "Requirement already satisfied: numpy>=1.9.3 in /usr/local/lib/python3.10/dist-packages (from tables==3.6.1) (1.24.4)\n",
            "Requirement already satisfied: numexpr>=2.6.2 in /usr/local/lib/python3.10/dist-packages (from tables==3.6.1) (2.9.0)\n",
            "Building wheels for collected packages: tables\n",
            "  \u001b[1;31merror\u001b[0m: \u001b[1msubprocess-exited-with-error\u001b[0m\n",
            "  \n",
            "  \u001b[31m×\u001b[0m \u001b[32mpython setup.py bdist_wheel\u001b[0m did not run successfully.\n",
            "  \u001b[31m│\u001b[0m exit code: \u001b[1;36m1\u001b[0m\n",
            "  \u001b[31m╰─>\u001b[0m See above for output.\n",
            "  \n",
            "  \u001b[1;35mnote\u001b[0m: This error originates from a subprocess, and is likely not a problem with pip.\n",
            "  Building wheel for tables (setup.py) ... \u001b[?25lerror\n",
            "\u001b[31m  ERROR: Failed building wheel for tables\u001b[0m\u001b[31m\n",
            "\u001b[0m\u001b[?25h  Running setup.py clean for tables\n",
            "Failed to build tables\n",
            "\u001b[31mERROR: Could not build wheels for tables, which is required to install pyproject.toml-based projects\u001b[0m\u001b[31m\n",
            "\u001b[0mRequirement already satisfied: matplotsoccer in /usr/local/lib/python3.10/dist-packages (0.0.8)\n"
          ]
        }
      ],
      "source": [
        "!pip install tables==3.6.1\n",
        "!pip install matplotsoccer"
      ]
    },
    {
      "cell_type": "code",
      "source": [
        "!pip install tables==3.6.1\n",
        "!pip install socceraction==0.2.0"
      ],
      "metadata": {
        "colab": {
          "base_uri": "https://localhost:8080/"
        },
        "id": "y4mL7YojHnuM",
        "outputId": "17f439d9-7618-4bff-b24a-60e8bac87e26"
      },
      "execution_count": 2,
      "outputs": [
        {
          "output_type": "stream",
          "name": "stdout",
          "text": [
            "Collecting tables==3.6.1\n",
            "  Using cached tables-3.6.1.tar.gz (4.6 MB)\n",
            "  Preparing metadata (setup.py) ... \u001b[?25l\u001b[?25hdone\n",
            "Requirement already satisfied: numpy>=1.9.3 in /usr/local/lib/python3.10/dist-packages (from tables==3.6.1) (1.24.4)\n",
            "Requirement already satisfied: numexpr>=2.6.2 in /usr/local/lib/python3.10/dist-packages (from tables==3.6.1) (2.9.0)\n",
            "Building wheels for collected packages: tables\n",
            "  \u001b[1;31merror\u001b[0m: \u001b[1msubprocess-exited-with-error\u001b[0m\n",
            "  \n",
            "  \u001b[31m×\u001b[0m \u001b[32mpython setup.py bdist_wheel\u001b[0m did not run successfully.\n",
            "  \u001b[31m│\u001b[0m exit code: \u001b[1;36m1\u001b[0m\n",
            "  \u001b[31m╰─>\u001b[0m See above for output.\n",
            "  \n",
            "  \u001b[1;35mnote\u001b[0m: This error originates from a subprocess, and is likely not a problem with pip.\n",
            "  Building wheel for tables (setup.py) ... \u001b[?25lerror\n",
            "\u001b[31m  ERROR: Failed building wheel for tables\u001b[0m\u001b[31m\n",
            "\u001b[0m\u001b[?25h  Running setup.py clean for tables\n",
            "Failed to build tables\n",
            "\u001b[31mERROR: Could not build wheels for tables, which is required to install pyproject.toml-based projects\u001b[0m\u001b[31m\n",
            "\u001b[0mRequirement already satisfied: socceraction==0.2.0 in /usr/local/lib/python3.10/dist-packages (0.2.0)\n",
            "Requirement already satisfied: tqdm in /usr/local/lib/python3.10/dist-packages (from socceraction==0.2.0) (4.66.1)\n",
            "Requirement already satisfied: pandas in /usr/local/lib/python3.10/dist-packages (from socceraction==0.2.0) (1.5.3)\n",
            "Requirement already satisfied: numpy in /usr/local/lib/python3.10/dist-packages (from socceraction==0.2.0) (1.24.4)\n",
            "Requirement already satisfied: unidecode in /usr/local/lib/python3.10/dist-packages (from socceraction==0.2.0) (1.3.8)\n",
            "Requirement already satisfied: requests in /usr/local/lib/python3.10/dist-packages (from socceraction==0.2.0) (2.31.0)\n",
            "Requirement already satisfied: python-dateutil>=2.8.1 in /usr/local/lib/python3.10/dist-packages (from pandas->socceraction==0.2.0) (2.8.2)\n",
            "Requirement already satisfied: pytz>=2020.1 in /usr/local/lib/python3.10/dist-packages (from pandas->socceraction==0.2.0) (2023.3.post1)\n",
            "Requirement already satisfied: charset-normalizer<4,>=2 in /usr/local/lib/python3.10/dist-packages (from requests->socceraction==0.2.0) (3.3.2)\n",
            "Requirement already satisfied: idna<4,>=2.5 in /usr/local/lib/python3.10/dist-packages (from requests->socceraction==0.2.0) (3.6)\n",
            "Requirement already satisfied: urllib3<3,>=1.21.1 in /usr/local/lib/python3.10/dist-packages (from requests->socceraction==0.2.0) (2.0.7)\n",
            "Requirement already satisfied: certifi>=2017.4.17 in /usr/local/lib/python3.10/dist-packages (from requests->socceraction==0.2.0) (2023.11.17)\n",
            "Requirement already satisfied: six>=1.5 in /usr/local/lib/python3.10/dist-packages (from python-dateutil>=2.8.1->pandas->socceraction==0.2.0) (1.16.0)\n"
          ]
        }
      ]
    },
    {
      "cell_type": "code",
      "source": [
        "pip install scipy"
      ],
      "metadata": {
        "colab": {
          "base_uri": "https://localhost:8080/"
        },
        "id": "F6Izw3X4PaBB",
        "outputId": "72460320-963a-4803-b421-8b80e27f233f"
      },
      "execution_count": 3,
      "outputs": [
        {
          "output_type": "stream",
          "name": "stdout",
          "text": [
            "Requirement already satisfied: scipy in /usr/local/lib/python3.10/dist-packages (1.11.4)\n",
            "Requirement already satisfied: numpy<1.28.0,>=1.21.6 in /usr/local/lib/python3.10/dist-packages (from scipy) (1.24.4)\n"
          ]
        }
      ]
    },
    {
      "cell_type": "code",
      "source": [
        "pip install numpy==1.24.4"
      ],
      "metadata": {
        "colab": {
          "base_uri": "https://localhost:8080/"
        },
        "id": "DZbRvUO_PlkV",
        "outputId": "ec2abb50-f8b1-4ff5-aff3-83d53030e94c"
      },
      "execution_count": 4,
      "outputs": [
        {
          "output_type": "stream",
          "name": "stdout",
          "text": [
            "Requirement already satisfied: numpy==1.24.4 in /usr/local/lib/python3.10/dist-packages (1.24.4)\n"
          ]
        }
      ]
    },
    {
      "cell_type": "code",
      "source": [
        "!pip install tables==3.6.1\n",
        "!pip install matplotsoccer"
      ],
      "metadata": {
        "colab": {
          "base_uri": "https://localhost:8080/"
        },
        "id": "ShojRFbdWZEu",
        "outputId": "ad6883da-40a4-4a94-907f-214224d81dc4"
      },
      "execution_count": 5,
      "outputs": [
        {
          "output_type": "stream",
          "name": "stdout",
          "text": [
            "Collecting tables==3.6.1\n",
            "  Using cached tables-3.6.1.tar.gz (4.6 MB)\n",
            "  Preparing metadata (setup.py) ... \u001b[?25l\u001b[?25hdone\n",
            "Requirement already satisfied: numpy>=1.9.3 in /usr/local/lib/python3.10/dist-packages (from tables==3.6.1) (1.24.4)\n",
            "Requirement already satisfied: numexpr>=2.6.2 in /usr/local/lib/python3.10/dist-packages (from tables==3.6.1) (2.9.0)\n",
            "Building wheels for collected packages: tables\n",
            "  \u001b[1;31merror\u001b[0m: \u001b[1msubprocess-exited-with-error\u001b[0m\n",
            "  \n",
            "  \u001b[31m×\u001b[0m \u001b[32mpython setup.py bdist_wheel\u001b[0m did not run successfully.\n",
            "  \u001b[31m│\u001b[0m exit code: \u001b[1;36m1\u001b[0m\n",
            "  \u001b[31m╰─>\u001b[0m See above for output.\n",
            "  \n",
            "  \u001b[1;35mnote\u001b[0m: This error originates from a subprocess, and is likely not a problem with pip.\n",
            "  Building wheel for tables (setup.py) ... \u001b[?25lerror\n",
            "\u001b[31m  ERROR: Failed building wheel for tables\u001b[0m\u001b[31m\n",
            "\u001b[0m\u001b[?25h  Running setup.py clean for tables\n",
            "Failed to build tables\n",
            "\u001b[31mERROR: Could not build wheels for tables, which is required to install pyproject.toml-based projects\u001b[0m\u001b[31m\n",
            "\u001b[0mRequirement already satisfied: matplotsoccer in /usr/local/lib/python3.10/dist-packages (0.0.8)\n"
          ]
        }
      ]
    },
    {
      "cell_type": "code",
      "source": [
        "pip install mplsoccer"
      ],
      "metadata": {
        "colab": {
          "base_uri": "https://localhost:8080/"
        },
        "id": "LYaHF3oePqsE",
        "outputId": "453ec413-4429-4b65-e9dd-c56c28976fc7"
      },
      "execution_count": 6,
      "outputs": [
        {
          "output_type": "stream",
          "name": "stdout",
          "text": [
            "Requirement already satisfied: mplsoccer in /usr/local/lib/python3.10/dist-packages (1.2.2)\n",
            "Requirement already satisfied: matplotlib>=3.6 in /usr/local/lib/python3.10/dist-packages (from mplsoccer) (3.7.1)\n",
            "Requirement already satisfied: numpy in /usr/local/lib/python3.10/dist-packages (from mplsoccer) (1.24.4)\n",
            "Requirement already satisfied: pandas in /usr/local/lib/python3.10/dist-packages (from mplsoccer) (1.5.3)\n",
            "Requirement already satisfied: pillow in /usr/local/lib/python3.10/dist-packages (from mplsoccer) (9.4.0)\n",
            "Requirement already satisfied: requests in /usr/local/lib/python3.10/dist-packages (from mplsoccer) (2.31.0)\n",
            "Requirement already satisfied: scipy in /usr/local/lib/python3.10/dist-packages (from mplsoccer) (1.11.4)\n",
            "Requirement already satisfied: seaborn in /usr/local/lib/python3.10/dist-packages (from mplsoccer) (0.13.1)\n",
            "Requirement already satisfied: contourpy>=1.0.1 in /usr/local/lib/python3.10/dist-packages (from matplotlib>=3.6->mplsoccer) (1.2.0)\n",
            "Requirement already satisfied: cycler>=0.10 in /usr/local/lib/python3.10/dist-packages (from matplotlib>=3.6->mplsoccer) (0.12.1)\n",
            "Requirement already satisfied: fonttools>=4.22.0 in /usr/local/lib/python3.10/dist-packages (from matplotlib>=3.6->mplsoccer) (4.47.2)\n",
            "Requirement already satisfied: kiwisolver>=1.0.1 in /usr/local/lib/python3.10/dist-packages (from matplotlib>=3.6->mplsoccer) (1.4.5)\n",
            "Requirement already satisfied: packaging>=20.0 in /usr/local/lib/python3.10/dist-packages (from matplotlib>=3.6->mplsoccer) (23.2)\n",
            "Requirement already satisfied: pyparsing>=2.3.1 in /usr/local/lib/python3.10/dist-packages (from matplotlib>=3.6->mplsoccer) (3.1.1)\n",
            "Requirement already satisfied: python-dateutil>=2.7 in /usr/local/lib/python3.10/dist-packages (from matplotlib>=3.6->mplsoccer) (2.8.2)\n",
            "Requirement already satisfied: pytz>=2020.1 in /usr/local/lib/python3.10/dist-packages (from pandas->mplsoccer) (2023.3.post1)\n",
            "Requirement already satisfied: charset-normalizer<4,>=2 in /usr/local/lib/python3.10/dist-packages (from requests->mplsoccer) (3.3.2)\n",
            "Requirement already satisfied: idna<4,>=2.5 in /usr/local/lib/python3.10/dist-packages (from requests->mplsoccer) (3.6)\n",
            "Requirement already satisfied: urllib3<3,>=1.21.1 in /usr/local/lib/python3.10/dist-packages (from requests->mplsoccer) (2.0.7)\n",
            "Requirement already satisfied: certifi>=2017.4.17 in /usr/local/lib/python3.10/dist-packages (from requests->mplsoccer) (2023.11.17)\n",
            "Requirement already satisfied: six>=1.5 in /usr/local/lib/python3.10/dist-packages (from python-dateutil>=2.7->matplotlib>=3.6->mplsoccer) (1.16.0)\n"
          ]
        }
      ]
    },
    {
      "cell_type": "code",
      "source": [
        "!pip install matplotsoccer"
      ],
      "metadata": {
        "colab": {
          "base_uri": "https://localhost:8080/"
        },
        "id": "sVs7BXlePuaf",
        "outputId": "23955f5c-dfde-4ad4-af84-106a0cdd7dac"
      },
      "execution_count": 7,
      "outputs": [
        {
          "output_type": "stream",
          "name": "stdout",
          "text": [
            "Requirement already satisfied: matplotsoccer in /usr/local/lib/python3.10/dist-packages (0.0.8)\n"
          ]
        }
      ]
    },
    {
      "cell_type": "code",
      "source": [
        "from google.colab import drive\n",
        "drive.mount('/content/gdrive')\n",
        "%mkdir -p '/content/gdrive/My Drive/Friends of Tracking/'\n",
        "%cd '/content/gdrive/My Drive/Friends of Tracking/'"
      ],
      "metadata": {
        "colab": {
          "base_uri": "https://localhost:8080/"
        },
        "id": "KxOWUWIbDsee",
        "outputId": "a485f690-0b6c-4f79-cb76-b666463f00f0"
      },
      "execution_count": 8,
      "outputs": [
        {
          "output_type": "stream",
          "name": "stdout",
          "text": [
            "Drive already mounted at /content/gdrive; to attempt to forcibly remount, call drive.mount(\"/content/gdrive\", force_remount=True).\n",
            "/content/gdrive/My Drive/Friends of Tracking\n"
          ]
        }
      ]
    },
    {
      "cell_type": "code",
      "source": [
        "import matplotlib.pyplot as plt\n",
        "import numpy as np\n",
        "from scipy.interpolate import BSpline, make_interp_spline\n",
        "\n",
        "import socceraction.xthreat as xthreat\n",
        "import socceraction.spadl as spadl"
      ],
      "metadata": {
        "id": "UsYbfp9qP0dj"
      },
      "execution_count": 9,
      "outputs": []
    },
    {
      "cell_type": "code",
      "source": [
        "import warnings\n",
        "\n",
        "import matplotsoccer as mps\n",
        "import numpy as np\n",
        "import pandas as pd\n",
        "from ipywidgets import fixed, interact_manual, widgets\n",
        "from tqdm.notebook import tqdm"
      ],
      "metadata": {
        "id": "zxmlg4gQDtaC"
      },
      "execution_count": 10,
      "outputs": []
    },
    {
      "cell_type": "code",
      "source": [
        "import warnings\n",
        "from io import BytesIO\n",
        "from pathlib import Path\n",
        "from urllib.parse import urlparse\n",
        "from urllib.request import urlopen, urlretrieve\n",
        "from zipfile import ZipFile, is_zipfile\n",
        "\n",
        "import pandas as pd\n",
        "import socceraction.vaep.features as features\n",
        "import socceraction.vaep.labels as labels\n",
        "from sklearn.metrics import brier_score_loss, roc_auc_score\n",
        "from socceraction.spadl.wyscout import convert_to_spadl\n",
        "from socceraction.vaep.formula import value\n",
        "from tqdm.notebook import tqdm\n",
        "from xgboost import XGBClassifier"
      ],
      "metadata": {
        "id": "N6hBVkDbFEGI"
      },
      "execution_count": 11,
      "outputs": []
    },
    {
      "cell_type": "code",
      "source": [
        "warnings.filterwarnings('ignore', category=pd.io.pytables.PerformanceWarning)"
      ],
      "metadata": {
        "id": "blRfj3oADxcX"
      },
      "execution_count": 12,
      "outputs": []
    },
    {
      "cell_type": "code",
      "source": [
        "data_files = {\n",
        "    'events': 'https://ndownloader.figshare.com/files/14464685',  # ZIP file containing one JSON file for each competition\n",
        "    'matches': 'https://ndownloader.figshare.com/files/14464622',  # ZIP file containing one JSON file for each competition\n",
        "    'players': 'https://ndownloader.figshare.com/files/15073721',  # JSON file\n",
        "    'teams': 'https://ndownloader.figshare.com/files/15073697'  # JSON file\n",
        "}"
      ],
      "metadata": {
        "id": "2G_ior5jFNEL"
      },
      "execution_count": 13,
      "outputs": []
    },
    {
      "cell_type": "code",
      "source": [
        "for url in tqdm(data_files.values()):\n",
        "    url_s3 = urlopen(url).geturl()\n",
        "    path = Path(urlparse(url_s3).path)\n",
        "    file_name = path.name\n",
        "    file_local, _ = urlretrieve(url_s3, file_name)\n",
        "    if is_zipfile(file_local):\n",
        "        with ZipFile(file_local) as zip_file:\n",
        "            zip_file.extractall()"
      ],
      "metadata": {
        "colab": {
          "base_uri": "https://localhost:8080/",
          "height": 49,
          "referenced_widgets": [
            "6b3821e8e22d48b19b72d0dc098c1c63",
            "c56fc6129f4e4150b8323eb3b3a9d384",
            "7424befd4164450f84bca338f15680ec",
            "b812dbac1ec244248fa2a157345fe3dd",
            "343063c711c145a9b752b38762d60cf9",
            "14337b135af64df2abac18f05d4d57f5",
            "fca31ae1de494ee6a8291cad6446429d",
            "03b663fd9a5749e2a38b11ace2cb4b5b",
            "27697796e5884f35bdb7918059d55572",
            "ee9615d1cf684dc0a60111ca7aa117db",
            "8b11d5da1dc64abc9c2a32257ae282e7"
          ]
        },
        "id": "GVFZTjE4FQnu",
        "outputId": "bd48975a-bbb9-43a3-dbf5-f5097f2cb073"
      },
      "execution_count": 14,
      "outputs": [
        {
          "output_type": "display_data",
          "data": {
            "text/plain": [
              "  0%|          | 0/4 [00:00<?, ?it/s]"
            ],
            "application/vnd.jupyter.widget-view+json": {
              "version_major": 2,
              "version_minor": 0,
              "model_id": "6b3821e8e22d48b19b72d0dc098c1c63"
            }
          },
          "metadata": {}
        }
      ]
    },
    {
      "cell_type": "code",
      "source": [
        "def read_json_file(filename):\n",
        "    with open(filename, 'rb') as json_file:\n",
        "        return BytesIO(json_file.read()).getvalue().decode('unicode_escape')"
      ],
      "metadata": {
        "id": "ChLoMncBFWmk"
      },
      "execution_count": 15,
      "outputs": []
    },
    {
      "cell_type": "code",
      "source": [
        "json_teams = read_json_file('teams.json')\n",
        "df_teams = pd.read_json(json_teams)"
      ],
      "metadata": {
        "id": "KAIaRtPxFXhF"
      },
      "execution_count": 16,
      "outputs": []
    },
    {
      "cell_type": "code",
      "source": [
        "df_teams.to_hdf('wyscout.h5', key='teams', mode='w')"
      ],
      "metadata": {
        "id": "cqciXCbiFbQx"
      },
      "execution_count": 17,
      "outputs": []
    },
    {
      "cell_type": "code",
      "source": [
        "json_players = read_json_file('players.json')\n",
        "df_players = pd.read_json(json_players)"
      ],
      "metadata": {
        "id": "Q_9GOU3iFfPu"
      },
      "execution_count": 18,
      "outputs": []
    },
    {
      "cell_type": "code",
      "source": [
        "df_players.to_hdf('wyscout.h5', key='players', mode='a')"
      ],
      "metadata": {
        "id": "QOsz6b_hFi6L"
      },
      "execution_count": 19,
      "outputs": []
    },
    {
      "cell_type": "code",
      "source": [
        "competitions = [\n",
        "     'England',\n",
        "#     'France',\n",
        "#     'Germany',\n",
        "#     'Italy',\n",
        "    # 'Spain',\n",
        "    # 'European Championship',\n",
        "    # 'World Cup'\n",
        "]"
      ],
      "metadata": {
        "id": "ybeShi3JFnVr"
      },
      "execution_count": 20,
      "outputs": []
    },
    {
      "cell_type": "code",
      "source": [
        "dfs_matches = []\n",
        "for competition in competitions:\n",
        "    competition_name = competition.replace(' ', '_')\n",
        "    file_matches = f'matches_{competition_name}.json'\n",
        "    json_matches = read_json_file(file_matches)\n",
        "    df_matches = pd.read_json(json_matches)\n",
        "    dfs_matches.append(df_matches)\n",
        "df_matches = pd.concat(dfs_matches)"
      ],
      "metadata": {
        "id": "Dk2ZXvxQFnSA"
      },
      "execution_count": 21,
      "outputs": []
    },
    {
      "cell_type": "code",
      "source": [
        "df_matches.to_hdf('wyscout.h5', key='matches', mode='a')"
      ],
      "metadata": {
        "id": "NgAZie_3FnPO"
      },
      "execution_count": 22,
      "outputs": []
    },
    {
      "cell_type": "code",
      "source": [
        "for competition in competitions:\n",
        "    competition_name = competition.replace(' ', '_')\n",
        "    file_events = f'events_{competition_name}.json'\n",
        "    json_events = read_json_file(file_events)\n",
        "    df_events = pd.read_json(json_events)\n",
        "    df_events_matches = df_events.groupby('matchId', as_index=False)\n",
        "    for match_id, df_events_match in df_events_matches:\n",
        "        df_events_match.to_hdf('wyscout.h5', key=f'events/match_{match_id}', mode='a')"
      ],
      "metadata": {
        "id": "Nx2OOLdZFw0I"
      },
      "execution_count": 23,
      "outputs": []
    },
    {
      "cell_type": "code",
      "source": [
        "convert_to_spadl('wyscout.h5', 'spadl.h5')"
      ],
      "metadata": {
        "colab": {
          "base_uri": "https://localhost:8080/"
        },
        "id": "1pgrcNB2Fww_",
        "outputId": "70008145-9d24-4562-aa78-4209703cce46"
      },
      "execution_count": 24,
      "outputs": [
        {
          "output_type": "stream",
          "name": "stdout",
          "text": [
            "...Inserting actiontypes\n",
            "...Inserting bodyparts\n",
            "...Inserting results\n",
            "...Converting games\n",
            "...Converting players\n",
            "...Converting teams\n",
            "...Generating player_games\n"
          ]
        },
        {
          "output_type": "stream",
          "name": "stderr",
          "text": [
            "100%|██████████| 380/380 [00:42<00:00,  8.98game/s]\n"
          ]
        },
        {
          "output_type": "stream",
          "name": "stdout",
          "text": [
            "...Converting events to actions\n"
          ]
        },
        {
          "output_type": "stream",
          "name": "stderr",
          "text": [
            "100%|██████████| 380/380 [04:41<00:00,  1.35game/s]\n"
          ]
        }
      ]
    },
    {
      "cell_type": "code",
      "source": [
        "df_games = pd.read_hdf('spadl.h5', key='games')\n",
        "df_actiontypes = pd.read_hdf('spadl.h5', key='actiontypes')\n",
        "df_bodyparts = pd.read_hdf('spadl.h5', key='bodyparts')\n",
        "df_results = pd.read_hdf('spadl.h5', key='results')\n",
        "df_teams = pd.read_hdf('spadl.h5', key='teams')\n",
        "df_players = pd.read_hdf('spadl.h5', key='players')"
      ],
      "metadata": {
        "id": "I-EsoDa1FwuO"
      },
      "execution_count": 25,
      "outputs": []
    },
    {
      "cell_type": "code",
      "source": [
        "# team_name_mapping = df_teams.set_index('team_id')['team_name'].to_dict()\n",
        "# df_games['home_team_name'] = df_games['home_team_id'].map(team_name_mapping)\n",
        "# df_games['away_team_name'] = df_games['away_team_id'].map(team_name_mapping)"
      ],
      "metadata": {
        "id": "AkIRyZlvFwri"
      },
      "execution_count": 27,
      "outputs": []
    },
    {
      "cell_type": "markdown",
      "source": [
        "# Events for a single match\n"
      ],
      "metadata": {
        "id": "_2hCM4TLhgAl"
      }
    },
    {
      "cell_type": "code",
      "source": [
        "# Select a game of choice\n",
        "game_id = 2499858\n",
        "\n",
        "# Events for a single match\n",
        "with pd.HDFStore('spadl.h5') as spadlstore:\n",
        "    df_actions = spadlstore[f'actions/game_{game_id}']\n",
        "    df_actions = (\n",
        "        df_actions.merge(spadlstore['actiontypes'], how='left')\n",
        "        .merge(spadlstore['results'], how='left')\n",
        "        .merge(spadlstore['bodyparts'], how='left')\n",
        "        .merge(spadlstore['players'], how=\"left\")\n",
        "        .merge(spadlstore['teams'], how='left')\n",
        "        .reset_index()\n",
        "        .rename(columns={'index': 'action_id'})\n",
        "    )\n",
        "df_actions.to_csv(f'/content/gdrive/MyDrive/Colab Notebooks/files/project/actions_{game_id}.csv')"
      ],
      "metadata": {
        "id": "OJ0LrJ4tD_Pm"
      },
      "execution_count": 28,
      "outputs": []
    },
    {
      "cell_type": "markdown",
      "source": [
        "#Events for each match of a particular team (only events for the chosen team)"
      ],
      "metadata": {
        "id": "0MmiPskThaem"
      }
    },
    {
      "cell_type": "code",
      "source": [
        "# select a team of choice (if you want all matches for a particular team)\n",
        "team=1644\n",
        "\n",
        "team_matches=[]\n",
        "for i, row in df_games.iterrows():\n",
        "  if row['home_team_id']==team or row['away_team_id']==team:\n",
        "    team_matches.append(row['game_id'])\n",
        "\n",
        "matches=pd.Series(team_matches)\n",
        "\n",
        "matches.to_csv(f'/content/gdrive/MyDrive/Colab Notebooks/files/project/matches_{team}.csv')\n",
        "\n",
        "# Events for each match of a particular team (only events for the chosen team)\n",
        "df=pd.DataFrame()\n",
        "for game_id in team_matches:\n",
        "  with pd.HDFStore('spadl.h5') as spadlstore:\n",
        "    df_actions = spadlstore[f'actions/game_{game_id}']\n",
        "    df_actions = (\n",
        "        df_actions.merge(spadlstore['actiontypes'], how='left')\n",
        "        .merge(spadlstore['results'], how='left')\n",
        "        .merge(spadlstore['bodyparts'], how='left')\n",
        "        .merge(spadlstore['players'], how=\"left\")\n",
        "        .merge(spadlstore['teams'], how='left')\n",
        "        .reset_index()\n",
        "        .rename(columns={'index': 'action_id'})\n",
        "    )\n",
        "    df_actions_team=df_actions[df_actions.team_id==team]\n",
        "    df_actions_team.to_csv(f'/content/gdrive/MyDrive/Colab Notebooks/files/project/actions_{team}_{game_id}.csv')\n",
        "\n"
      ],
      "metadata": {
        "id": "FLkZ77tyOrFq"
      },
      "execution_count": 29,
      "outputs": []
    },
    {
      "cell_type": "code",
      "source": [],
      "metadata": {
        "id": "y2nMcz2CR06h"
      },
      "execution_count": 29,
      "outputs": []
    },
    {
      "cell_type": "markdown",
      "source": [
        "# EVENTS FOR BOTH TEAMS IN THE MATCH (Only matches of the chosen team, but events for both teams in the match)\n"
      ],
      "metadata": {
        "id": "VK1cg7fahjMZ"
      }
    },
    {
      "cell_type": "code",
      "source": [
        "# select a team of choice (if you want all matches for a particular team)\n",
        "team=1613\n",
        "\n",
        "team_matches=[]\n",
        "for i, row in df_games.iterrows():\n",
        "  if row['home_team_id']==team or row['away_team_id']==team:\n",
        "    team_matches.append(row['game_id'])\n",
        "\n",
        "matches=pd.Series(team_matches)\n",
        "\n",
        "matches.to_csv(f'/content/gdrive/MyDrive/Colab Notebooks/files/project/matches_{team}.csv')\n",
        "\n",
        "# EVENTS FOR BOTH TEAMS IN THE MATCH (Only matches of the chosen team, but events for both teams in the match)\n",
        "\n",
        "df=pd.DataFrame()\n",
        "for game_id in team_matches:\n",
        "  with pd.HDFStore('spadl.h5') as spadlstore:\n",
        "    df_actions = spadlstore[f'actions/game_{game_id}']\n",
        "    df_actions = (\n",
        "        df_actions.merge(spadlstore['actiontypes'], how='left')\n",
        "        .merge(spadlstore['results'], how='left')\n",
        "        .merge(spadlstore['bodyparts'], how='left')\n",
        "        .merge(spadlstore['players'], how=\"left\")\n",
        "        .merge(spadlstore['teams'], how='left')\n",
        "        .reset_index()\n",
        "        .rename(columns={'index': 'action_id'})\n",
        "    )\n",
        "    df_actions_match=df_actions\n",
        "    df_actions_match.to_csv(f'/content/gdrive/MyDrive/Colab Notebooks/files/project/actions_{game_id}.csv')\n"
      ],
      "metadata": {
        "id": "jpSl2B_rUvqu"
      },
      "execution_count": 31,
      "outputs": []
    },
    {
      "cell_type": "code",
      "source": [],
      "metadata": {
        "id": "gt_es1rWSzKg"
      },
      "execution_count": 30,
      "outputs": []
    }
  ]
}